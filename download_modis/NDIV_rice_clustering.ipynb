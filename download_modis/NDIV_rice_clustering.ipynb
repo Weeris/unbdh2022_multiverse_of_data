{
  "cells": [
    {
      "cell_type": "markdown",
      "metadata": {
        "id": "view-in-github",
        "colab_type": "text"
      },
      "source": [
        "<a href=\"https://colab.research.google.com/github/Weeris/unbdh2022_multiverse_of_data/blob/main/download_modis/NDIV_rice_clustering.ipynb\" target=\"_parent\"><img src=\"https://colab.research.google.com/assets/colab-badge.svg\" alt=\"Open In Colab\"/></a>"
      ]
    },
    {
      "cell_type": "markdown",
      "metadata": {
        "id": "kRhteTyMRtoL"
      },
      "source": [
        "# MOD-01-Download MODIS with pyModis & create NDVI, NDWI & NDFI"
      ]
    },
    {
      "cell_type": "markdown",
      "metadata": {
        "id": "F7xD08BubS5H"
      },
      "source": [
        "## Connect google drive"
      ]
    },
    {
      "cell_type": "markdown",
      "source": [
        "# ส่วนใหม่"
      ],
      "metadata": {
        "id": "BXA7sDUBc-qy"
      }
    },
    {
      "cell_type": "code",
      "execution_count": 1,
      "metadata": {
        "colab": {
          "base_uri": "https://localhost:8080/"
        },
        "id": "vp6O4tqibSkD",
        "outputId": "272288bf-48a0-497b-b050-d83f22f38ac9",
        "vscode": {
          "languageId": "python"
        }
      },
      "outputs": [
        {
          "output_type": "stream",
          "name": "stdout",
          "text": [
            "Mounted at /content/drive\n"
          ]
        }
      ],
      "source": [
        "from google.colab import drive\n",
        "drive.mount('/content/drive', force_remount=True)"
      ]
    },
    {
      "cell_type": "markdown",
      "metadata": {
        "id": "PkuFu4QXR4cP"
      },
      "source": [
        "## Install libraries"
      ]
    },
    {
      "cell_type": "code",
      "execution_count": 2,
      "metadata": {
        "colab": {
          "base_uri": "https://localhost:8080/"
        },
        "id": "41SU3Tv_u3MQ",
        "outputId": "782abf88-cc77-4b2d-96a0-2f7371aeb746",
        "vscode": {
          "languageId": "python"
        }
      },
      "outputs": [
        {
          "output_type": "stream",
          "name": "stdout",
          "text": [
            "Looking in indexes: https://pypi.org/simple, https://us-python.pkg.dev/colab-wheels/public/simple/\n",
            "Collecting rasterio\n",
            "  Downloading rasterio-1.2.10-cp37-cp37m-manylinux1_x86_64.whl (19.3 MB)\n",
            "\u001b[K     |████████████████████████████████| 19.3 MB 1.2 MB/s \n",
            "\u001b[?25hCollecting affine\n",
            "  Downloading affine-2.3.1-py2.py3-none-any.whl (16 kB)\n",
            "Requirement already satisfied: click>=4.0 in /usr/local/lib/python3.7/dist-packages (from rasterio) (7.1.2)\n",
            "Requirement already satisfied: setuptools in /usr/local/lib/python3.7/dist-packages (from rasterio) (57.4.0)\n",
            "Collecting click-plugins\n",
            "  Downloading click_plugins-1.1.1-py2.py3-none-any.whl (7.5 kB)\n",
            "Collecting cligj>=0.5\n",
            "  Downloading cligj-0.7.2-py3-none-any.whl (7.1 kB)\n",
            "Requirement already satisfied: certifi in /usr/local/lib/python3.7/dist-packages (from rasterio) (2022.9.24)\n",
            "Requirement already satisfied: numpy in /usr/local/lib/python3.7/dist-packages (from rasterio) (1.21.6)\n",
            "Collecting snuggs>=1.4.1\n",
            "  Downloading snuggs-1.4.7-py3-none-any.whl (5.4 kB)\n",
            "Requirement already satisfied: attrs in /usr/local/lib/python3.7/dist-packages (from rasterio) (22.1.0)\n",
            "Requirement already satisfied: pyparsing>=2.1.6 in /usr/local/lib/python3.7/dist-packages (from snuggs>=1.4.1->rasterio) (3.0.9)\n",
            "Installing collected packages: snuggs, cligj, click-plugins, affine, rasterio\n",
            "Successfully installed affine-2.3.1 click-plugins-1.1.1 cligj-0.7.2 rasterio-1.2.10 snuggs-1.4.7\n",
            "Looking in indexes: https://pypi.org/simple, https://us-python.pkg.dev/colab-wheels/public/simple/\n",
            "Collecting pyModis\n",
            "  Downloading pyModis-2.3.0-py3-none-any.whl (58 kB)\n",
            "\u001b[K     |████████████████████████████████| 58 kB 3.0 MB/s \n",
            "\u001b[?25hRequirement already satisfied: numpy in /usr/local/lib/python3.7/dist-packages (from pyModis) (1.21.6)\n",
            "Requirement already satisfied: requests in /usr/local/lib/python3.7/dist-packages (from pyModis) (2.23.0)\n",
            "Requirement already satisfied: GDAL in /usr/local/lib/python3.7/dist-packages (from pyModis) (2.2.2)\n",
            "Requirement already satisfied: future in /usr/local/lib/python3.7/dist-packages (from pyModis) (0.16.0)\n",
            "Requirement already satisfied: chardet<4,>=3.0.2 in /usr/local/lib/python3.7/dist-packages (from requests->pyModis) (3.0.4)\n",
            "Requirement already satisfied: urllib3!=1.25.0,!=1.25.1,<1.26,>=1.21.1 in /usr/local/lib/python3.7/dist-packages (from requests->pyModis) (1.24.3)\n",
            "Requirement already satisfied: idna<3,>=2.5 in /usr/local/lib/python3.7/dist-packages (from requests->pyModis) (2.10)\n",
            "Requirement already satisfied: certifi>=2017.4.17 in /usr/local/lib/python3.7/dist-packages (from requests->pyModis) (2022.9.24)\n",
            "Installing collected packages: pyModis\n",
            "Successfully installed pyModis-2.3.0\n",
            "Looking in indexes: https://pypi.org/simple, https://us-python.pkg.dev/colab-wheels/public/simple/\n",
            "Collecting zkyhaxpy\n",
            "  Downloading zkyhaxpy-0.2.9.9.1-py3-none-any.whl (32 kB)\n",
            "Installing collected packages: zkyhaxpy\n",
            "Successfully installed zkyhaxpy-0.2.9.9.1\n"
          ]
        }
      ],
      "source": [
        "!pip install rasterio\n",
        "!pip install pyModis\n",
        "!pip install zkyhaxpy\n"
      ]
    },
    {
      "cell_type": "markdown",
      "metadata": {
        "id": "KAxGhPl3RtEk"
      },
      "source": []
    },
    {
      "cell_type": "markdown",
      "metadata": {
        "id": "Q_-MfPS_R8f-"
      },
      "source": [
        "## Import libraries"
      ]
    },
    {
      "cell_type": "code",
      "execution_count": 3,
      "metadata": {
        "id": "UUmtGyVXU3sy",
        "vscode": {
          "languageId": "python"
        }
      },
      "outputs": [],
      "source": [
        "import os\n",
        "import time\n",
        "import seaborn as sns\n",
        "import pandas as pd\n",
        "from zkyhaxpy.io_tools import list_files_re\n",
        "from zkyhaxpy import console_tools\n"
      ]
    },
    {
      "cell_type": "markdown",
      "metadata": {
        "id": "L5eeBbvGbhGJ"
      },
      "source": [
        "## Define paths"
      ]
    },
    {
      "cell_type": "markdown",
      "source": [],
      "metadata": {
        "id": "omPq15BieBZK"
      }
    },
    {
      "cell_type": "code",
      "execution_count": 4,
      "metadata": {
        "id": "nG_waF8PbgIn",
        "vscode": {
          "languageId": "python"
        }
      },
      "outputs": [],
      "source": [
        "my_drive_path = \"/content/drive/My Drive/\"\n",
        "\n",
        "ndvi_folder = os.path.join(my_drive_path, 'ndvi-pixel-values')\n",
        "# modis_folder = os.path.join(my_drive_path, 'unbdh2022-multiverse-of-data/modis250m16d')\n",
        "\n",
        "# raw_folder = os.path.join(modis_folder, 'raw')\n",
        "# os.makedirs(raw_folder, exist_ok=True)\n",
        "\n"
      ]
    },
    {
      "cell_type": "markdown",
      "metadata": {
        "id": "9_pkHLv4U75s"
      },
      "source": [
        "## Download raw image of MOD13Q1"
      ]
    },
    {
      "cell_type": "code",
      "execution_count": null,
      "metadata": {
        "vscode": {
          "languageId": "python"
        },
        "id": "AVXRZUkHcvzb"
      },
      "outputs": [],
      "source": [
        "user = input('User')\n",
        "password = input('Password')"
      ]
    },
    {
      "cell_type": "code",
      "execution_count": null,
      "metadata": {
        "id": "N9rf9jsMYIQI",
        "vscode": {
          "languageId": "python"
        }
      },
      "outputs": [],
      "source": [
        "\n",
        "download_script = f'modis_download.py -U {user} -P {password} -r -t h27v06,h27v07,h27v08,h28v07,h28v08 -p MOD13Q1.006 -f 2000-01-01 -e 2022-12-31 \"{modis_folder}/raw\"'\n",
        "console_tools.execute_cmd(download_script)\n",
        "\n"
      ]
    },
    {
      "cell_type": "markdown",
      "source": [
        "## Read parquet"
      ],
      "metadata": {
        "id": "KfZJjHtWeeMa"
      }
    },
    {
      "cell_type": "code",
      "source": [
        "df = pd.read_parquet('/content/drive/MyDrive/ndvi-pixel-values/df_mod250m16d_no_reproj_ndvi_pix_val_p10_2001.parquet')\n",
        "df"
      ],
      "metadata": {
        "id": "TYYc02JXeEAK",
        "outputId": "917a9ba2-8f56-4e18-d3ed-8ce26d6cb717",
        "colab": {
          "base_uri": "https://localhost:8080/",
          "height": 488
        }
      },
      "execution_count": 8,
      "outputs": [
        {
          "output_type": "execute_result",
          "data": {
            "text/plain": [
              "        row   col tambon_pcode  prov_cd  amphur_cd  tambon_cd tambon_key  \\\n",
              "0      3257  2560     TH104004       10         40          4    10_40_4   \n",
              "1      3259  2602     TH103503       10         35          3    10_35_3   \n",
              "2      3173  2667     TH104603       10         46          3    10_46_3   \n",
              "3      3193  2715     TH101002       10         10          2    10_10_2   \n",
              "4      3190  2616     TH103004       10         30          4    10_30_4   \n",
              "...     ...   ...          ...      ...        ...        ...        ...   \n",
              "35010  3185  2654     TH102705       10         27          5    10_27_5   \n",
              "35011  3285  2604     TH102105       10         21          5    10_21_5   \n",
              "35012  3218  2576     TH101901       10         19          1    10_19_1   \n",
              "35013  3230  2531     TH104801       10         48          1    10_48_1   \n",
              "35014  3214  2575     TH102007       10         20          7    10_20_7   \n",
              "\n",
              "       PROVINCE_CODE  REGION_ID  REGION_9_ID  ... ndvi_20010829  \\\n",
              "0                 10          1            1  ...        0.4662   \n",
              "1                 10          1            1  ...        0.3791   \n",
              "2                 10          1            1  ...        0.3688   \n",
              "3                 10          1            1  ...        0.6441   \n",
              "4                 10          1            1  ...        0.2537   \n",
              "...              ...        ...          ...  ...           ...   \n",
              "35010             10          1            1  ...        0.4021   \n",
              "35011             10          1            1  ...        0.6489   \n",
              "35012             10          1            1  ...        0.5356   \n",
              "35013             10          1            1  ...        0.5209   \n",
              "35014             10          1            1  ...        0.8298   \n",
              "\n",
              "       ndvi_20010914  ndvi_20010930  ndvi_20011016  ndvi_20011101  \\\n",
              "0             0.4438         0.5214         0.4940         0.4397   \n",
              "1             0.4186         0.1329         0.3164         0.4264   \n",
              "2             0.3551         0.3626         0.4007         0.3672   \n",
              "3             0.4877         0.5469         0.5028         0.4815   \n",
              "4             0.3870         0.2290         0.3554         0.3978   \n",
              "...              ...            ...            ...            ...   \n",
              "35010         0.5005         0.3335         0.4587         0.4725   \n",
              "35011         0.5527         0.6292         0.5656         0.5585   \n",
              "35012         0.5973         0.3797         0.4244         0.6032   \n",
              "35013         0.7250         0.5602         0.6550         0.6221   \n",
              "35014         0.6488         0.1904         0.6639         0.5650   \n",
              "\n",
              "       ndvi_20011117  ndvi_20011203  ndvi_20011219  cnt_nan  pct_nan_cols  \n",
              "0             0.4250         0.5005         0.4048        0           0.0  \n",
              "1             0.3994         0.4258         0.3880        0           0.0  \n",
              "2             0.3815         0.3926         0.4974        0           0.0  \n",
              "3             0.4303         0.4368         0.4888        0           0.0  \n",
              "4             0.4032         0.3675         0.3495        0           0.0  \n",
              "...              ...            ...            ...      ...           ...  \n",
              "35010         0.4878         0.3827         0.3372        0           0.0  \n",
              "35011         0.5703         0.6213         0.6741        0           0.0  \n",
              "35012         0.5341         0.5605         0.5263        0           0.0  \n",
              "35013         0.6253         0.6262         0.5958        0           0.0  \n",
              "35014         0.6717         0.6555         0.6571        0           0.0  \n",
              "\n",
              "[35015 rows x 36 columns]"
            ],
            "text/html": [
              "\n",
              "  <div id=\"df-5419967e-22e3-45c5-b058-efefb868fb0e\">\n",
              "    <div class=\"colab-df-container\">\n",
              "      <div>\n",
              "<style scoped>\n",
              "    .dataframe tbody tr th:only-of-type {\n",
              "        vertical-align: middle;\n",
              "    }\n",
              "\n",
              "    .dataframe tbody tr th {\n",
              "        vertical-align: top;\n",
              "    }\n",
              "\n",
              "    .dataframe thead th {\n",
              "        text-align: right;\n",
              "    }\n",
              "</style>\n",
              "<table border=\"1\" class=\"dataframe\">\n",
              "  <thead>\n",
              "    <tr style=\"text-align: right;\">\n",
              "      <th></th>\n",
              "      <th>row</th>\n",
              "      <th>col</th>\n",
              "      <th>tambon_pcode</th>\n",
              "      <th>prov_cd</th>\n",
              "      <th>amphur_cd</th>\n",
              "      <th>tambon_cd</th>\n",
              "      <th>tambon_key</th>\n",
              "      <th>PROVINCE_CODE</th>\n",
              "      <th>REGION_ID</th>\n",
              "      <th>REGION_9_ID</th>\n",
              "      <th>...</th>\n",
              "      <th>ndvi_20010829</th>\n",
              "      <th>ndvi_20010914</th>\n",
              "      <th>ndvi_20010930</th>\n",
              "      <th>ndvi_20011016</th>\n",
              "      <th>ndvi_20011101</th>\n",
              "      <th>ndvi_20011117</th>\n",
              "      <th>ndvi_20011203</th>\n",
              "      <th>ndvi_20011219</th>\n",
              "      <th>cnt_nan</th>\n",
              "      <th>pct_nan_cols</th>\n",
              "    </tr>\n",
              "  </thead>\n",
              "  <tbody>\n",
              "    <tr>\n",
              "      <th>0</th>\n",
              "      <td>3257</td>\n",
              "      <td>2560</td>\n",
              "      <td>TH104004</td>\n",
              "      <td>10</td>\n",
              "      <td>40</td>\n",
              "      <td>4</td>\n",
              "      <td>10_40_4</td>\n",
              "      <td>10</td>\n",
              "      <td>1</td>\n",
              "      <td>1</td>\n",
              "      <td>...</td>\n",
              "      <td>0.4662</td>\n",
              "      <td>0.4438</td>\n",
              "      <td>0.5214</td>\n",
              "      <td>0.4940</td>\n",
              "      <td>0.4397</td>\n",
              "      <td>0.4250</td>\n",
              "      <td>0.5005</td>\n",
              "      <td>0.4048</td>\n",
              "      <td>0</td>\n",
              "      <td>0.0</td>\n",
              "    </tr>\n",
              "    <tr>\n",
              "      <th>1</th>\n",
              "      <td>3259</td>\n",
              "      <td>2602</td>\n",
              "      <td>TH103503</td>\n",
              "      <td>10</td>\n",
              "      <td>35</td>\n",
              "      <td>3</td>\n",
              "      <td>10_35_3</td>\n",
              "      <td>10</td>\n",
              "      <td>1</td>\n",
              "      <td>1</td>\n",
              "      <td>...</td>\n",
              "      <td>0.3791</td>\n",
              "      <td>0.4186</td>\n",
              "      <td>0.1329</td>\n",
              "      <td>0.3164</td>\n",
              "      <td>0.4264</td>\n",
              "      <td>0.3994</td>\n",
              "      <td>0.4258</td>\n",
              "      <td>0.3880</td>\n",
              "      <td>0</td>\n",
              "      <td>0.0</td>\n",
              "    </tr>\n",
              "    <tr>\n",
              "      <th>2</th>\n",
              "      <td>3173</td>\n",
              "      <td>2667</td>\n",
              "      <td>TH104603</td>\n",
              "      <td>10</td>\n",
              "      <td>46</td>\n",
              "      <td>3</td>\n",
              "      <td>10_46_3</td>\n",
              "      <td>10</td>\n",
              "      <td>1</td>\n",
              "      <td>1</td>\n",
              "      <td>...</td>\n",
              "      <td>0.3688</td>\n",
              "      <td>0.3551</td>\n",
              "      <td>0.3626</td>\n",
              "      <td>0.4007</td>\n",
              "      <td>0.3672</td>\n",
              "      <td>0.3815</td>\n",
              "      <td>0.3926</td>\n",
              "      <td>0.4974</td>\n",
              "      <td>0</td>\n",
              "      <td>0.0</td>\n",
              "    </tr>\n",
              "    <tr>\n",
              "      <th>3</th>\n",
              "      <td>3193</td>\n",
              "      <td>2715</td>\n",
              "      <td>TH101002</td>\n",
              "      <td>10</td>\n",
              "      <td>10</td>\n",
              "      <td>2</td>\n",
              "      <td>10_10_2</td>\n",
              "      <td>10</td>\n",
              "      <td>1</td>\n",
              "      <td>1</td>\n",
              "      <td>...</td>\n",
              "      <td>0.6441</td>\n",
              "      <td>0.4877</td>\n",
              "      <td>0.5469</td>\n",
              "      <td>0.5028</td>\n",
              "      <td>0.4815</td>\n",
              "      <td>0.4303</td>\n",
              "      <td>0.4368</td>\n",
              "      <td>0.4888</td>\n",
              "      <td>0</td>\n",
              "      <td>0.0</td>\n",
              "    </tr>\n",
              "    <tr>\n",
              "      <th>4</th>\n",
              "      <td>3190</td>\n",
              "      <td>2616</td>\n",
              "      <td>TH103004</td>\n",
              "      <td>10</td>\n",
              "      <td>30</td>\n",
              "      <td>4</td>\n",
              "      <td>10_30_4</td>\n",
              "      <td>10</td>\n",
              "      <td>1</td>\n",
              "      <td>1</td>\n",
              "      <td>...</td>\n",
              "      <td>0.2537</td>\n",
              "      <td>0.3870</td>\n",
              "      <td>0.2290</td>\n",
              "      <td>0.3554</td>\n",
              "      <td>0.3978</td>\n",
              "      <td>0.4032</td>\n",
              "      <td>0.3675</td>\n",
              "      <td>0.3495</td>\n",
              "      <td>0</td>\n",
              "      <td>0.0</td>\n",
              "    </tr>\n",
              "    <tr>\n",
              "      <th>...</th>\n",
              "      <td>...</td>\n",
              "      <td>...</td>\n",
              "      <td>...</td>\n",
              "      <td>...</td>\n",
              "      <td>...</td>\n",
              "      <td>...</td>\n",
              "      <td>...</td>\n",
              "      <td>...</td>\n",
              "      <td>...</td>\n",
              "      <td>...</td>\n",
              "      <td>...</td>\n",
              "      <td>...</td>\n",
              "      <td>...</td>\n",
              "      <td>...</td>\n",
              "      <td>...</td>\n",
              "      <td>...</td>\n",
              "      <td>...</td>\n",
              "      <td>...</td>\n",
              "      <td>...</td>\n",
              "      <td>...</td>\n",
              "      <td>...</td>\n",
              "    </tr>\n",
              "    <tr>\n",
              "      <th>35010</th>\n",
              "      <td>3185</td>\n",
              "      <td>2654</td>\n",
              "      <td>TH102705</td>\n",
              "      <td>10</td>\n",
              "      <td>27</td>\n",
              "      <td>5</td>\n",
              "      <td>10_27_5</td>\n",
              "      <td>10</td>\n",
              "      <td>1</td>\n",
              "      <td>1</td>\n",
              "      <td>...</td>\n",
              "      <td>0.4021</td>\n",
              "      <td>0.5005</td>\n",
              "      <td>0.3335</td>\n",
              "      <td>0.4587</td>\n",
              "      <td>0.4725</td>\n",
              "      <td>0.4878</td>\n",
              "      <td>0.3827</td>\n",
              "      <td>0.3372</td>\n",
              "      <td>0</td>\n",
              "      <td>0.0</td>\n",
              "    </tr>\n",
              "    <tr>\n",
              "      <th>35011</th>\n",
              "      <td>3285</td>\n",
              "      <td>2604</td>\n",
              "      <td>TH102105</td>\n",
              "      <td>10</td>\n",
              "      <td>21</td>\n",
              "      <td>5</td>\n",
              "      <td>10_21_5</td>\n",
              "      <td>10</td>\n",
              "      <td>1</td>\n",
              "      <td>1</td>\n",
              "      <td>...</td>\n",
              "      <td>0.6489</td>\n",
              "      <td>0.5527</td>\n",
              "      <td>0.6292</td>\n",
              "      <td>0.5656</td>\n",
              "      <td>0.5585</td>\n",
              "      <td>0.5703</td>\n",
              "      <td>0.6213</td>\n",
              "      <td>0.6741</td>\n",
              "      <td>0</td>\n",
              "      <td>0.0</td>\n",
              "    </tr>\n",
              "    <tr>\n",
              "      <th>35012</th>\n",
              "      <td>3218</td>\n",
              "      <td>2576</td>\n",
              "      <td>TH101901</td>\n",
              "      <td>10</td>\n",
              "      <td>19</td>\n",
              "      <td>1</td>\n",
              "      <td>10_19_1</td>\n",
              "      <td>10</td>\n",
              "      <td>1</td>\n",
              "      <td>1</td>\n",
              "      <td>...</td>\n",
              "      <td>0.5356</td>\n",
              "      <td>0.5973</td>\n",
              "      <td>0.3797</td>\n",
              "      <td>0.4244</td>\n",
              "      <td>0.6032</td>\n",
              "      <td>0.5341</td>\n",
              "      <td>0.5605</td>\n",
              "      <td>0.5263</td>\n",
              "      <td>0</td>\n",
              "      <td>0.0</td>\n",
              "    </tr>\n",
              "    <tr>\n",
              "      <th>35013</th>\n",
              "      <td>3230</td>\n",
              "      <td>2531</td>\n",
              "      <td>TH104801</td>\n",
              "      <td>10</td>\n",
              "      <td>48</td>\n",
              "      <td>1</td>\n",
              "      <td>10_48_1</td>\n",
              "      <td>10</td>\n",
              "      <td>1</td>\n",
              "      <td>1</td>\n",
              "      <td>...</td>\n",
              "      <td>0.5209</td>\n",
              "      <td>0.7250</td>\n",
              "      <td>0.5602</td>\n",
              "      <td>0.6550</td>\n",
              "      <td>0.6221</td>\n",
              "      <td>0.6253</td>\n",
              "      <td>0.6262</td>\n",
              "      <td>0.5958</td>\n",
              "      <td>0</td>\n",
              "      <td>0.0</td>\n",
              "    </tr>\n",
              "    <tr>\n",
              "      <th>35014</th>\n",
              "      <td>3214</td>\n",
              "      <td>2575</td>\n",
              "      <td>TH102007</td>\n",
              "      <td>10</td>\n",
              "      <td>20</td>\n",
              "      <td>7</td>\n",
              "      <td>10_20_7</td>\n",
              "      <td>10</td>\n",
              "      <td>1</td>\n",
              "      <td>1</td>\n",
              "      <td>...</td>\n",
              "      <td>0.8298</td>\n",
              "      <td>0.6488</td>\n",
              "      <td>0.1904</td>\n",
              "      <td>0.6639</td>\n",
              "      <td>0.5650</td>\n",
              "      <td>0.6717</td>\n",
              "      <td>0.6555</td>\n",
              "      <td>0.6571</td>\n",
              "      <td>0</td>\n",
              "      <td>0.0</td>\n",
              "    </tr>\n",
              "  </tbody>\n",
              "</table>\n",
              "<p>35015 rows × 36 columns</p>\n",
              "</div>\n",
              "      <button class=\"colab-df-convert\" onclick=\"convertToInteractive('df-5419967e-22e3-45c5-b058-efefb868fb0e')\"\n",
              "              title=\"Convert this dataframe to an interactive table.\"\n",
              "              style=\"display:none;\">\n",
              "        \n",
              "  <svg xmlns=\"http://www.w3.org/2000/svg\" height=\"24px\"viewBox=\"0 0 24 24\"\n",
              "       width=\"24px\">\n",
              "    <path d=\"M0 0h24v24H0V0z\" fill=\"none\"/>\n",
              "    <path d=\"M18.56 5.44l.94 2.06.94-2.06 2.06-.94-2.06-.94-.94-2.06-.94 2.06-2.06.94zm-11 1L8.5 8.5l.94-2.06 2.06-.94-2.06-.94L8.5 2.5l-.94 2.06-2.06.94zm10 10l.94 2.06.94-2.06 2.06-.94-2.06-.94-.94-2.06-.94 2.06-2.06.94z\"/><path d=\"M17.41 7.96l-1.37-1.37c-.4-.4-.92-.59-1.43-.59-.52 0-1.04.2-1.43.59L10.3 9.45l-7.72 7.72c-.78.78-.78 2.05 0 2.83L4 21.41c.39.39.9.59 1.41.59.51 0 1.02-.2 1.41-.59l7.78-7.78 2.81-2.81c.8-.78.8-2.07 0-2.86zM5.41 20L4 18.59l7.72-7.72 1.47 1.35L5.41 20z\"/>\n",
              "  </svg>\n",
              "      </button>\n",
              "      \n",
              "  <style>\n",
              "    .colab-df-container {\n",
              "      display:flex;\n",
              "      flex-wrap:wrap;\n",
              "      gap: 12px;\n",
              "    }\n",
              "\n",
              "    .colab-df-convert {\n",
              "      background-color: #E8F0FE;\n",
              "      border: none;\n",
              "      border-radius: 50%;\n",
              "      cursor: pointer;\n",
              "      display: none;\n",
              "      fill: #1967D2;\n",
              "      height: 32px;\n",
              "      padding: 0 0 0 0;\n",
              "      width: 32px;\n",
              "    }\n",
              "\n",
              "    .colab-df-convert:hover {\n",
              "      background-color: #E2EBFA;\n",
              "      box-shadow: 0px 1px 2px rgba(60, 64, 67, 0.3), 0px 1px 3px 1px rgba(60, 64, 67, 0.15);\n",
              "      fill: #174EA6;\n",
              "    }\n",
              "\n",
              "    [theme=dark] .colab-df-convert {\n",
              "      background-color: #3B4455;\n",
              "      fill: #D2E3FC;\n",
              "    }\n",
              "\n",
              "    [theme=dark] .colab-df-convert:hover {\n",
              "      background-color: #434B5C;\n",
              "      box-shadow: 0px 1px 3px 1px rgba(0, 0, 0, 0.15);\n",
              "      filter: drop-shadow(0px 1px 2px rgba(0, 0, 0, 0.3));\n",
              "      fill: #FFFFFF;\n",
              "    }\n",
              "  </style>\n",
              "\n",
              "      <script>\n",
              "        const buttonEl =\n",
              "          document.querySelector('#df-5419967e-22e3-45c5-b058-efefb868fb0e button.colab-df-convert');\n",
              "        buttonEl.style.display =\n",
              "          google.colab.kernel.accessAllowed ? 'block' : 'none';\n",
              "\n",
              "        async function convertToInteractive(key) {\n",
              "          const element = document.querySelector('#df-5419967e-22e3-45c5-b058-efefb868fb0e');\n",
              "          const dataTable =\n",
              "            await google.colab.kernel.invokeFunction('convertToInteractive',\n",
              "                                                     [key], {});\n",
              "          if (!dataTable) return;\n",
              "\n",
              "          const docLinkHtml = 'Like what you see? Visit the ' +\n",
              "            '<a target=\"_blank\" href=https://colab.research.google.com/notebooks/data_table.ipynb>data table notebook</a>'\n",
              "            + ' to learn more about interactive tables.';\n",
              "          element.innerHTML = '';\n",
              "          dataTable['output_type'] = 'display_data';\n",
              "          await google.colab.output.renderOutput(dataTable, element);\n",
              "          const docLink = document.createElement('div');\n",
              "          docLink.innerHTML = docLinkHtml;\n",
              "          element.appendChild(docLink);\n",
              "        }\n",
              "      </script>\n",
              "    </div>\n",
              "  </div>\n",
              "  "
            ]
          },
          "metadata": {},
          "execution_count": 8
        }
      ]
    },
    {
      "cell_type": "code",
      "source": [],
      "metadata": {
        "id": "FJ200VnYeI0p"
      },
      "execution_count": null,
      "outputs": []
    }
  ],
  "metadata": {
    "colab": {
      "collapsed_sections": [
        "PkuFu4QXR4cP",
        "Q_-MfPS_R8f-",
        "L5eeBbvGbhGJ"
      ],
      "provenance": [],
      "include_colab_link": true
    },
    "kernelspec": {
      "display_name": "Python 3",
      "name": "python3"
    }
  },
  "nbformat": 4,
  "nbformat_minor": 0
}